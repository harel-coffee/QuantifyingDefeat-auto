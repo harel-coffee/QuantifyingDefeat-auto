{
 "cells": [
  {
   "cell_type": "code",
   "execution_count": 1,
   "metadata": {},
   "outputs": [],
   "source": [
    "import pandas as pd\n",
    "import numpy as np\n",
    "import matplotlib.pyplot as plt\n",
    "import seaborn as sns\n",
    "import glob\n",
    "import loadTDT as tdt\n",
    "from scipy import signal\n",
    "from scipy.signal import detrend\n",
    "from scipy.signal import resample\n",
    "from scipy.signal import medfilt\n",
    "from scipy.signal import butter\n",
    "from scipy.signal import filtfilt\n",
    "from statsmodels import robust\n",
    "from scipy import ndimage, misc\n",
    "from scipy.ndimage import gaussian_filter1d\n",
    "import pims\n",
    "import matplotlib.gridspec as gridspec\n",
    "from matplotlib.animation import FuncAnimation\n",
    "from scipy.stats import entropy\n",
    "sns.set_context(\"paper\")"
   ]
  },
  {
   "cell_type": "markdown",
   "metadata": {},
   "source": [
    "## All advanced analysis for behavioral analysis of opto cohorts\n",
    "Data can be downloaded from https://figshare.com/articles/dataset/Defeat_Behavior_during_Optogenetic_Manipulation/20147126"
   ]
  },
  {
   "cell_type": "code",
   "execution_count": 26,
   "metadata": {},
   "outputs": [],
   "source": [
    "groups={'closed-loop':[743,748,742,735,411,403,412,420,648,649,640,642,109,111,112,105],\n",
    "        'no opsin control':[750,752,410,401,635,419,627,628,629,630,101,102,104,106],\n",
    "        'open-loop':[741,744,734,409,413,402,418,654,650,651,108,103,113,110]}\n",
    "ppal=['yellowgreen','hotpink','grey']\n",
    "pord=['closed-loop','open-loop','no opsin control']\n",
    "\n",
    "# recording frame rate\n",
    "FS=120"
   ]
  },
  {
   "cell_type": "code",
   "execution_count": 3,
   "metadata": {},
   "outputs": [],
   "source": [
    "import pickle\n",
    "alldat = pickle.load( open( \"opto_fight_open.p\", \"rb\" ) )"
   ]
  },
  {
   "cell_type": "markdown",
   "metadata": {},
   "source": [
    "Quantify and visualize stimulation relative to behavior"
   ]
  },
  {
   "cell_type": "code",
   "execution_count": 5,
   "metadata": {},
   "outputs": [],
   "source": [
    "def get_trigger(x,thresh,lag):\n",
    "    t=np.where(x>thresh)[0]\n",
    "    t=[t_i for t_i in t if np.sum(x[t_i-lag:t_i]>thresh)==0]\n",
    "    return np.array(t)\n",
    "    "
   ]
  },
  {
   "cell_type": "code",
   "execution_count": 14,
   "metadata": {
    "scrolled": true
   },
   "outputs": [],
   "source": [
    "stimlens=[]\n",
    "totalstims=[]\n",
    "for g in groups:\n",
    "    for m in groups[g]:\n",
    "        for d in range(1,11):\n",
    "            k= (m,d)\n",
    "            if k not in alldat or 'laser_on' not in alldat[k]:\n",
    "                continue\n",
    "            s=alldat[k]['laser_on']\n",
    "            totalstims.append(float(np.sum(s>1))/len(s))\n",
    "            ons=get_trigger(s,1,20)\n",
    "            for o in ons:\n",
    "                bigger=get_trigger(medfilt(-1*s[o:o+500]+5,21),1,20)\n",
    "                if len(bigger):\n",
    "                    stimlens.append(bigger[0]/120)"
   ]
  },
  {
   "cell_type": "code",
   "execution_count": 15,
   "metadata": {},
   "outputs": [
    {
     "name": "stderr",
     "output_type": "stream",
     "text": [
      "/usr/people/willmore/.conda/envs/umap/lib/python3.6/site-packages/seaborn/distributions.py:2619: FutureWarning: `distplot` is a deprecated function and will be removed in a future version. Please adapt your code to use either `displot` (a figure-level function with similar flexibility) or `histplot` (an axes-level function for histograms).\n",
      "  warnings.warn(msg, FutureWarning)\n"
     ]
    },
    {
     "data": {
      "image/png": "[encoded data removed]",
      "text/plain": [
       "<Figure size 57.6x43.2 with 1 Axes>"
      ]
     },
     "metadata": {
      "needs_background": "light"
     },
     "output_type": "display_data"
    }
   ],
   "source": [
    "plt.figure(figsize=(0.8,0.6))\n",
    "sns.distplot(np.log10(stimlens),bins=10,color='darkgrey')\n",
    "plt.xlim(-1.2,1)\n",
    "sns.despine()\n",
    "plt.xlabel('Log$_{10}$ Bout\\nLength (s)')\n",
    "plt.ylabel('Density')\n",
    "plt.show()"
   ]
  },
  {
   "cell_type": "code",
   "execution_count": 16,
   "metadata": {},
   "outputs": [
    {
     "name": "stderr",
     "output_type": "stream",
     "text": [
      "/usr/people/willmore/.conda/envs/umap/lib/python3.6/site-packages/seaborn/distributions.py:2619: FutureWarning: `distplot` is a deprecated function and will be removed in a future version. Please adapt your code to use either `displot` (a figure-level function with similar flexibility) or `histplot` (an axes-level function for histograms).\n",
      "  warnings.warn(msg, FutureWarning)\n"
     ]
    },
    {
     "data": {
      "image/png": "[encoded data removed]",
      "text/plain": [
       "<Figure size 57.6x43.2 with 1 Axes>"
      ]
     },
     "metadata": {
      "needs_background": "light"
     },
     "output_type": "display_data"
    }
   ],
   "source": [
    "plt.figure(figsize=(0.8,0.6))\n",
    "sns.distplot(100*np.array(totalstims),bins=10,color='darkgrey')\n",
    "plt.xlim(0,12)\n",
    "sns.despine()\n",
    "plt.xlabel('Total\\nTime (%)')\n",
    "plt.ylabel('Density')\n",
    "plt.show()"
   ]
  },
  {
   "cell_type": "markdown",
   "metadata": {},
   "source": [
    "Load random forest models found at https://figshare.com/articles/dataset/Defeat_Recording_Data/20102681"
   ]
  },
  {
   "cell_type": "code",
   "execution_count": 18,
   "metadata": {},
   "outputs": [],
   "source": [
    "rfs = pickle.load(open('rfs_2101_new_behaviors.p','rb'),encoding='latin')\n",
    "rfs_old = pickle.load(open('rfs_2101_old_behaviors.p','rb'),encoding='latin')\n",
    "rf_scores = {}\n",
    "for k in alldat.keys():\n",
    "    if k in rf_scores:\n",
    "        continue\n",
    "    rf_scores[k]={}\n",
    "    X=alldat[k]['extracted_features']\n",
    "    for b,(rf,c)in rfs.items():\n",
    "        pred = rf.predict_proba(X)\n",
    "        rf_scores[k][b]=medfilt(pred.T[0],11)<c\n",
    "    for b,(rf,c)in rfs_old.items():\n",
    "        if b == 'fightback':\n",
    "            continue\n",
    "        pred = rf.predict_proba(X)\n",
    "        rf_scores[k][b]=medfilt(pred.T[0],11)<c"
   ]
  },
  {
   "cell_type": "code",
   "execution_count": 27,
   "metadata": {},
   "outputs": [
    {
     "data": {
      "text/plain": [
       "(3.231666666666669, 316.7683333333333, -0.38, 1.3800000000000001)"
      ]
     },
     "execution_count": 27,
     "metadata": {},
     "output_type": "execute_result"
    },
    {
     "data": {
      "image/png": "[encoded data removed]",
      "text/plain": [
       "<Figure size 194.4x108 with 1 Axes>"
      ]
     },
     "metadata": {
      "needs_background": "light"
     },
     "output_type": "display_data"
    }
   ],
   "source": [
    "import matplotlib.patches as patches\n",
    "fig,ax=plt.subplots(1,1,figsize=(2.7,1.5))\n",
    "d=7\n",
    "k0=(649,d)\n",
    "k1=(650,d)\n",
    "test0=rf_scores[k0]['fightback']\n",
    "test1=rf_scores[k1]['fightback']\n",
    "t=np.arange(len(test0))/FS\n",
    "laseron=alldat[k0]['laser_on']>1\n",
    "for tick in t[np.where(laseron)[0]]:\n",
    "    plt.plot([tick,tick],[0.8,1.2],color='k',linewidth=1)\n",
    "    \n",
    "for tick in t[np.where(test0)[0]]:\n",
    "    plt.plot([tick,tick],[0.7,0.3],color=ppal[0],linewidth=1)\n",
    "    \n",
    "for tick in t[np.where(test1)[0]]:\n",
    "    plt.plot([tick,tick],[-0.2,0.2],color=ppal[1],linewidth=1)\n",
    "plt.text(0,1,'Laser on',va='center',ha='right')\n",
    "plt.text(0,0.5,'Closed-loop\\nmouse fighting',va='center',ha='right',color=ppal[0])\n",
    "plt.text(0,0,'Open-loop\\nmouse fighting',va='center',ha='right',color=ppal[1])\n",
    "\n",
    "rect = patches.Rectangle((30, -0.3), 10,1.6, linewidth=1, edgecolor='grey', facecolor='none',\n",
    "                        zorder=100)\n",
    "\n",
    "ax.add_patch(rect)\n",
    "plt.plot([60*4,60*4+30],[-0.2,-0.2],color='k')\n",
    "plt.text(60*4+15,-0.3,'30 s',va='top',ha='center',color='k')\n",
    "\n",
    "plt.axis('off')"
   ]
  },
  {
   "cell_type": "code",
   "execution_count": 33,
   "metadata": {},
   "outputs": [
    {
     "data": {
      "text/plain": [
       "(30.0, 40.0)"
      ]
     },
     "execution_count": 33,
     "metadata": {},
     "output_type": "execute_result"
    },
    {
     "data": {
      "image/png": "[encoded data removed]",
      "text/plain": [
       "<Figure size 86.4x28.8 with 1 Axes>"
      ]
     },
     "metadata": {
      "needs_background": "light"
     },
     "output_type": "display_data"
    }
   ],
   "source": [
    "plt.figure(figsize=(1.2,0.4))\n",
    "d=7\n",
    "k0=(649,d)\n",
    "k1=(650,d)\n",
    "test0=rf_scores[k0]['fightback']\n",
    "test1=rf_scores[k1]['fightback']\n",
    "t=np.arange(len(test0))/120\n",
    "plt.scatter(t[np.where(test0)[0]],np.ones(sum(test0))-0.5,color=ppal[0],marker='|')\n",
    "plt.scatter(t[np.where(test1)[0]],np.ones(sum(test1))-1,color=ppal[1],marker='|')\n",
    "laseron=alldat[k0]['laser_on']>1\n",
    "plt.scatter(t[np.where(laseron)[0]],np.ones(np.sum(laseron)),marker='|',color='k')\n",
    "plt.text(30,1,'Laser',va='center',ha='right')\n",
    "plt.text(30,0.5,'Closed',va='center',ha='right',color=ppal[0])\n",
    "plt.text(30,0,'Open',va='center',ha='right',color=ppal[1])\n",
    "plt.axis('off')\n",
    "plt.xlim(30,40)"
   ]
  },
  {
   "cell_type": "markdown",
   "metadata": {},
   "source": [
    "Analyze behavior change from early to late defeat"
   ]
  },
  {
   "cell_type": "code",
   "execution_count": 36,
   "metadata": {},
   "outputs": [
    {
     "name": "stderr",
     "output_type": "stream",
     "text": [
      "/usr/people/willmore/.conda/envs/umap/lib/python3.6/site-packages/ipykernel_launcher.py:47: RuntimeWarning: invalid value encountered in long_scalars\n"
     ]
    }
   ],
   "source": [
    "rf_totals = {'m':[],'d':[],'t':[],'b':[],'g':[]}\n",
    "fight_check = {'m':[],'d':[],'F':[],'T':[],'f':[],'a':[],'R':[],'r':[]}\n",
    "for i,m in enumerate(set([k[0] for k in alldat.keys()])):\n",
    "    g=None\n",
    "    for g_t,mlist in groups.items():\n",
    "        if m in mlist:\n",
    "            g=g_t\n",
    "            break\n",
    "    for d in range(1,11):\n",
    "        if (m,d) not in rf_scores:\n",
    "            continue\n",
    "        rf=rf_scores[(m,d)]\n",
    "        \n",
    "        # EARLY\n",
    "        for b,l in rf.items():\n",
    "            t=l\n",
    "            rf_totals['b'].append(b)\n",
    "            rf_totals['m'].append(int(m))\n",
    "            rf_totals['d'].append(d)\n",
    "            rf_totals['g'].append(g)\n",
    "            rf_totals['t'].append(np.sum(t)/len(t))\n",
    "\n",
    "        a=rf['attack']\n",
    "        b=np.logical_and(a,rf['fightback'])\n",
    "        rf_totals['b'].append('fightWhenAttacked')\n",
    "        rf_totals['m'].append(int(m))\n",
    "        rf_totals['d'].append(d)\n",
    "        rf_totals['g'].append(g)\n",
    "        rf_totals['t'].append(np.sum(b)/np.sum(a))\n",
    "        \n",
    "        \n",
    "        a=rf['attack']\n",
    "        b=np.logical_and(a,rf['runaway'])\n",
    "        rf_totals['b'].append('fleeWhenAttacked')\n",
    "        rf_totals['m'].append(int(m))\n",
    "        rf_totals['d'].append(d)\n",
    "        rf_totals['g'].append(g)\n",
    "        rf_totals['t'].append(np.sum(b)/np.sum(a))\n",
    "\n",
    "\n",
    "        a=rf['fightback']\n",
    "        b=np.logical_and(a,np.logical_not(rf['attack']))\n",
    "        rf_totals['b'].append('notAttackedWhenFight')\n",
    "        rf_totals['m'].append(int(m))\n",
    "        rf_totals['d'].append(d)\n",
    "        rf_totals['g'].append(g)\n",
    "        rf_totals['t'].append(np.sum(b)/np.sum(a))\n",
    "\n",
    "        a=np.logical_not(rf['attack'])\n",
    "        b=np.logical_and(a,rf['fightback'])\n",
    "        rf_totals['b'].append('fightWhenNotAttacked')\n",
    "        rf_totals['m'].append(int(m))\n",
    "        rf_totals['g'].append(g)\n",
    "        rf_totals['d'].append(d)\n",
    "        rf_totals['t'].append(np.sum(b)/np.sum(a))\n",
    "\n",
    "        a=np.logical_not(rf['runaway'])\n",
    "        b=np.logical_and(a,rf['fightback'])\n",
    "        rf_totals['b'].append('fightWhenNotFlee')\n",
    "        rf_totals['m'].append(int(m))\n",
    "        rf_totals['g'].append(g)\n",
    "        rf_totals['d'].append(d)\n",
    "        rf_totals['t'].append(np.sum(b)/np.sum(a))\n",
    "        \n",
    "        a=rf['runaway']\n",
    "        b=rf['fightback']\n",
    "        rf_totals['b'].append('fightToFleeRatio')\n",
    "        rf_totals['m'].append(int(m))\n",
    "        rf_totals['g'].append(g)\n",
    "        rf_totals['d'].append(d)\n",
    "        rf_totals['t'].append(np.sum(b)/np.sum(a))\n",
    "\n",
    "\n",
    "rf_df = pd.DataFrame(rf_totals)\n",
    "rf_df['p']=rf_df['t']*100"
   ]
  },
  {
   "cell_type": "code",
   "execution_count": 37,
   "metadata": {},
   "outputs": [],
   "source": [
    "fight_increase_df={'m':[],'earlylate':[],'t':[],'group':[]}\n",
    "for m,d in rf_df.query('b==\"fightWhenAttacked\"').groupby('m'):\n",
    "    fight_increase_df['m'].append(m)\n",
    "    fight_increase_df['earlylate'].append('early')\n",
    "    fight_increase_df['t'].append(d.query('d<=2').p.mean())\n",
    "    fight_increase_df['group'].append(d.g.values[0])\n",
    "    fight_increase_df['m'].append(m)\n",
    "    fight_increase_df['earlylate'].append('late')\n",
    "    fight_increase_df['t'].append(d.query('d>=9').p.mean())\n",
    "    fight_increase_df['group'].append(d.g.values[0])\n",
    "fight_increase_df=pd.DataFrame(fight_increase_df)"
   ]
  },
  {
   "cell_type": "code",
   "execution_count": 107,
   "metadata": {},
   "outputs": [
    {
     "data": {
      "image/png": "[encoded data removed]",
      "text/plain": [
       "<Figure size 207.36x115.2 with 3 Axes>"
      ]
     },
     "metadata": {},
     "output_type": "display_data"
    }
   ],
   "source": [
    "sns.set_style('ticks')\n",
    "gs=['closed-loop','open-loop','no opsin control']\n",
    "g=sns.relplot(data=fight_increase_df,x='earlylate',y='t',hue='group',\n",
    "              ci=68,kind='line',\n",
    "            palette=list(np.array(ppal)[[0,1,2]]),\n",
    "             hue_order=gs,\n",
    "            col_order=gs,\n",
    "            sort=False,col='group',\n",
    "             height=1.6,aspect=0.6,legend=False)\n",
    "plt.xlabel('Before or After Day 5')\n",
    "plt.title('Fleeing while attacked')\n",
    "plt.ylabel('% of Attack Time Fighting')\n",
    "for l,a in zip(['closed\\nloop','open\\nloop','no opsin\\ncontrol'],g.axes[0]):\n",
    "    a.set_title(l)\n",
    "    a.set_xlim(-0.5,1.5)\n",
    "    a.set_xticklabels(['1,2','9,10'],rotation=60)\n",
    "    a.set_xlabel('')\n",
    "g.axes[0][1].set_xlabel('Defeat Days')\n",
    "sns.despine(ax=g.axes[0][2],left=False)\n",
    "g.axes[0][0].set_ylabel('% fighting back')\n",
    "plt.tight_layout()\n"
   ]
  },
  {
   "cell_type": "code",
   "execution_count": 51,
   "metadata": {},
   "outputs": [
    {
     "data": {
      "text/plain": [
       "(Ttest_relResult(statistic=-2.7707023363402006, pvalue=0.014278617050662),\n",
       " Ttest_relResult(statistic=-0.3824794442864293, pvalue=0.7082858750599406),\n",
       " Ttest_relResult(statistic=0.41443205354717755, pvalue=0.6853146592689537))"
      ]
     },
     "execution_count": 51,
     "metadata": {},
     "output_type": "execute_result"
    }
   ],
   "source": [
    "import statsmodels\n",
    "from scipy.stats import ttest_rel\n",
    "\n",
    "t1=ttest_rel(pd.DataFrame(fight_increase_df).query('group==\"closed-loop\" and earlylate==\"early\"').t,\n",
    "         pd.DataFrame(fight_increase_df).query('group==\"closed-loop\" and earlylate==\"late\"').t)\n",
    "t2=ttest_rel(pd.DataFrame(fight_increase_df).query('group==\"open-loop\" and earlylate==\"early\"').t,\n",
    "             pd.DataFrame(fight_increase_df).query('group==\"open-loop\" and earlylate==\"late\"').t)\n",
    "t3=ttest_rel(pd.DataFrame(fight_increase_df).query('group==\"no opsin control\" and earlylate==\"early\"').t,\n",
    "         pd.DataFrame(fight_increase_df).query('group==\"no opsin control\" and earlylate==\"late\"').t)\n",
    "(t1,t2,t3)"
   ]
  },
  {
   "cell_type": "markdown",
   "metadata": {},
   "source": [
    "Analyze behavior as embedded into t-SNE space.\n",
    "Maps created using obserational cohort.\n",
    "t-SNE projection model can be downloaded from https://figshare.com/articles/dataset/Defeat_Recording_Data/20102681"
   ]
  },
  {
   "cell_type": "code",
   "execution_count": 56,
   "metadata": {},
   "outputs": [],
   "source": [
    "## t-SNE\n",
    "saved=pickle.load(open('tsne_2101.p','rb'))\n",
    "mlp2=saved['projection']\n",
    "labeled_map=saved['map']"
   ]
  },
  {
   "cell_type": "code",
   "execution_count": 57,
   "metadata": {},
   "outputs": [],
   "source": [
    "## t-SNE parameters\n",
    "\n",
    "# average distance between mice\n",
    "tsne_dists=[229.70494978266953,\n",
    " 245.55505578548951,\n",
    " 245.12842340146145,\n",
    " 166.58055751288933,\n",
    " 149.51097837985458,\n",
    " 250.90124233870606,\n",
    " 226.49122360206243,\n",
    " 141.3280762786305,\n",
    " 96.60278218737608,\n",
    " 128.60567565443952,\n",
    " 93.26928011218547,\n",
    " 175.86329471200276,\n",
    " 89.84951112059038,\n",
    " 90.04663779430373,\n",
    " 203.50069251536658,\n",
    " 57.43254248517057,\n",
    " 123.0666217373827,\n",
    " 92.19272510334693]\n",
    "\n",
    "# dimensions of 2D histogram over t-SNE space\n",
    "map_shape=(50,50)\n",
    "\n",
    "# location in 50,50 histogram where the cluster peaks are\n",
    "peakx=[5, 6, 10, 11, 15, 18, 18, 19, 21, 25, 26, 27, 30, 31, 32, 36, 39, 39]\n",
    "peaky=[24, 16, 13, 36, 26, 6, 15, 24, 40, 19, 29, 13, 35, 41, 8, 27, 12, 22]\n",
    "\n",
    "# Mapping from continuous 2D t-SNE space to histogram boundaries originally defined by photometry study\n",
    "xe,ye=(np.array([-53.31824247, -51.02838956, -48.73853665, -46.44868374,\n",
    "        -44.15883083, -41.86897791, -39.579125  , -37.28927209,\n",
    "        -34.99941918, -32.70956627, -30.41971336, -28.12986044,\n",
    "        -25.84000753, -23.55015462, -21.26030171, -18.9704488 ,\n",
    "        -16.68059589, -14.39074297, -12.10089006,  -9.81103715,\n",
    "         -7.52118424,  -5.23133133,  -2.94147842,  -0.6516255 ,\n",
    "          1.63822741,   3.92808032,   6.21793323,   8.50778614,\n",
    "         10.79763905,  13.08749197,  15.37734488,  17.66719779,\n",
    "         19.9570507 ,  22.24690361,  24.53675652,  26.82660944,\n",
    "         29.11646235,  31.40631526,  33.69616817,  35.98602108,\n",
    "         38.27587399,  40.56572691,  42.85557982,  45.14543273,\n",
    "         47.43528564,  49.72513855,  52.01499147,  54.30484438,\n",
    "         56.59469729,  58.8845502 ,  61.17440311]),\n",
    " np.array([-49.13876281, -47.0439975 , -44.9492322 , -42.85446689,\n",
    "        -40.75970159, -38.66493628, -36.57017098, -34.47540567,\n",
    "        -32.38064037, -30.28587506, -28.19110976, -26.09634445,\n",
    "        -24.00157915, -21.90681384, -19.81204854, -17.71728323,\n",
    "        -15.62251793, -13.52775262, -11.43298732,  -9.33822201,\n",
    "         -7.24345671,  -5.1486914 ,  -3.0539261 ,  -0.95916079,\n",
    "          1.13560451,   3.23036982,   5.32513512,   7.41990043,\n",
    "          9.51466573,  11.60943104,  13.70419634,  15.79896165,\n",
    "         17.89372695,  19.98849226,  22.08325756,  24.17802287,\n",
    "         26.27278817,  28.36755348,  30.46231878,  32.55708409,\n",
    "         34.6518494 ,  36.7466147 ,  38.84138001,  40.93614531,\n",
    "         43.03091062,  45.12567592,  47.22044123,  49.31520653,\n",
    "         51.40997184,  53.50473714,  55.59950245]))"
   ]
  },
  {
   "cell_type": "code",
   "execution_count": 54,
   "metadata": {},
   "outputs": [],
   "source": [
    "embeddings={}\n",
    "for test_key in alldat.keys():\n",
    "    test_X = alldat[test_key]['extracted_features']\n",
    "    embedded_mlp = mlp2.predict(test_X)\n",
    "    embeddings[test_key]=embedded_mlp"
   ]
  },
  {
   "cell_type": "code",
   "execution_count": 58,
   "metadata": {},
   "outputs": [],
   "source": [
    "\n",
    "xmin=min(xe)\n",
    "xmax=max(xe)\n",
    "ymin=min(ye)\n",
    "ymax=max(ye)\n",
    "labels={}\n",
    "for k,e in embeddings.items():\n",
    "\n",
    "    def to_coords(xy):\n",
    "        \n",
    "        x = (xy[0] - xmin) / (xmax - xmin) * map_shape[0]\n",
    "        y = (xy[1] - ymin) / (ymax - ymin) * map_shape[1]\n",
    "        if x >= map_shape[0]:\n",
    "            x = map_shape[0]-1\n",
    "        if y >= map_shape[1]:\n",
    "            y = map_shape[1]-1\n",
    "        if x < 0:\n",
    "            x=0\n",
    "        if y < 0:\n",
    "            y=0\n",
    "        return int(x), int(y)\n",
    "    labels[k] = np.array([labeled_map[to_coords(point)] for point in e])"
   ]
  },
  {
   "cell_type": "code",
   "execution_count": 60,
   "metadata": {},
   "outputs": [],
   "source": [
    "def heatmap(data, axlims=None, bins=100, normed=True, sigma=0.0):\n",
    "    from scipy.ndimage.filters import gaussian_filter\n",
    "    # Initial histogram\n",
    "    heatmap, xedges, yedges = np.histogram2d(data[:,0], data[:, 1],\n",
    "            bins=bins, range=axlims, normed=normed)\n",
    "    # Convolve with Gaussian\n",
    "    heatmap = gaussian_filter(heatmap, sigma=sigma)\n",
    "    return heatmap,xedges,yedges\n",
    "\n",
    "hists = {}\n",
    "for test_key in embeddings:\n",
    "    embedded_mlp=embeddings[test_key]\n",
    "    z,_,_ = heatmap(embedded_mlp, bins=(xe,ye), sigma=1.5)\n",
    "    hists[test_key]=z/z.sum()"
   ]
  },
  {
   "cell_type": "code",
   "execution_count": 62,
   "metadata": {},
   "outputs": [],
   "source": [
    "hists_stim={}\n",
    "for g in groups:\n",
    "    for m in groups[g]:\n",
    "        for d in range(1,11):\n",
    "            k= (m,d)\n",
    "            if k not in alldat or 'laser_on' not in alldat[k]:\n",
    "                continue\n",
    "            s=alldat[k]['laser_on']>1\n",
    "            embedded_mlp=embeddings[k]\n",
    "            if len(s)!=len(embedded_mlp):\n",
    "                continue\n",
    "            z,_,_ = heatmap(embedded_mlp[s], bins=(xe,ye), sigma=1.5)\n",
    "            z2,_,_ = heatmap(embedded_mlp, bins=(xe,ye), sigma=1.5)\n",
    "            hists_stim[k]=(z/z.sum())"
   ]
  },
  {
   "cell_type": "markdown",
   "metadata": {},
   "source": [
    "Align stimulation to behavior in t-SNE space"
   ]
  },
  {
   "cell_type": "code",
   "execution_count": 103,
   "metadata": {},
   "outputs": [
    {
     "data": {
      "image/png": "[encoded data removed]",
      "text/plain": [
       "<Figure size 288x108 with 4 Axes>"
      ]
     },
     "metadata": {},
     "output_type": "display_data"
    }
   ],
   "source": [
    "\n",
    "sns.set_style('dark')\n",
    "o2title={'closed-loop':'fight-triggered','open-loop':'open-loop','no opsin control':'no opsin control'}\n",
    "fig,axs=plt.subplots(nrows=1,ncols=3,figsize=(4,1.5))\n",
    "for i,g in enumerate(pord):\n",
    "\n",
    "    resilient_map=np.zeros(hists[(420,1)].shape)\n",
    "    for m in groups[g]:\n",
    "\n",
    "        for d in range(1,11):\n",
    "            if (m,d) in hists_stim:\n",
    "                resilient_map += hists_stim[(m,d)]/np.sum(hists[(m,d)])\n",
    "    resilient_map=resilient_map/resilient_map.sum()\n",
    "    im=axs[i].imshow(resilient_map.T,origin='lower',cmap='gist_stern_r',vmin=0,vmax=0.005)\n",
    "    axs[i].axis('off')\n",
    "    axs[i].set_title(o2title[g],color=ppal[i])\n",
    "    for j in np.unique((labeled_map).flatten()):\n",
    "        x=peakx[int(j)-1]\n",
    "        y=peaky[int(j)-1]\n",
    "        if np.where(np.argsort(tsne_dists)==int(j)-1)[0][0]+1 != 1:\n",
    "            axs[i].text(x,y,np.where(np.argsort(tsne_dists)==int(j)-1)[0][0]+1,size=7,\n",
    "                    verticalalignment='center',\n",
    "                    horizontalalignment='center',\n",
    "                    color='grey')\n",
    "        else:\n",
    "            axs[i].text(x,y,'fight',size=10,\n",
    "                    verticalalignment='center',\n",
    "                    horizontalalignment='center',\n",
    "                    color='black')\n",
    "cbar=fig.colorbar(im,fraction=0.048,orientation='vertical',pad=-0.04)\n",
    "cbar.set_ticks([])\n",
    "fig.subplots_adjust(wspace=0, hspace=0)\n",
    "cbar.set_label('Hi  $P$(Stim)   Lo',rotation=-90,va='bottom')\n",
    "\n",
    "plt.show()"
   ]
  },
  {
   "cell_type": "markdown",
   "metadata": {},
   "source": [
    "Assess differences in behavior across groups and observational vs optogenetic manipulation experiments"
   ]
  },
  {
   "cell_type": "code",
   "execution_count": 74,
   "metadata": {},
   "outputs": [],
   "source": [
    "ms = []\n",
    "ds = []\n",
    "ls = []\n",
    "ts = []\n",
    "gs = []\n",
    "\n",
    "for g in groups:\n",
    "    for m in groups[g]:\n",
    "        for d in range(1,11):\n",
    "            if (m,d) in labels.keys():\n",
    "                for l in range(1,19):\n",
    "                    ls.append('t-SNE %d'%l)\n",
    "                    ts.append(np.sum(labels[(m,d)]==l)/len(labels[(m,d)])*100)\n",
    "                    ms.append(m)\n",
    "                    ds.append(d)\n",
    "                    gs.append(g)"
   ]
  },
  {
   "cell_type": "code",
   "execution_count": 78,
   "metadata": {},
   "outputs": [],
   "source": [
    "df=pd.DataFrame({'m':ms,'d':ds,'c':ls,'t':ts,'group':gs})\n",
    "test=pd.pivot_table(df.query('group in %s'%pord),values='t',index=['m','group'],columns='c')\n",
    "testrb=np.array([i[1] for i in test.index])"
   ]
  },
  {
   "cell_type": "code",
   "execution_count": 86,
   "metadata": {},
   "outputs": [],
   "source": [
    "from sklearn.feature_selection import chi2\n",
    "from matplotlib import cm\n",
    "from matplotlib.colors import LinearSegmentedColormap\n",
    "\n",
    "PiBr = LinearSegmentedColormap.from_list(\n",
    "        \"Custom\", ['hotpink','white','gray'], N=40)\n",
    "\n",
    "YGBr = LinearSegmentedColormap.from_list(\n",
    "        \"Custom\", ['yellowgreen','white','gray'], N=40)"
   ]
  },
  {
   "cell_type": "markdown",
   "metadata": {},
   "source": [
    "Download pre-calculated t-SNE behavior maps from other cohorts (seen below how these individual mean behavior maps are generated for the presently analyzed closed-loop.\n",
    "Maps file can be found at https://figshare.com/articles/dataset/Defeat_Behavior_during_Optogenetic_Manipulation/20147126"
   ]
  },
  {
   "cell_type": "code",
   "execution_count": 87,
   "metadata": {},
   "outputs": [],
   "source": [
    "mouse_maps=pickle.load( open( \"opto_maps.p\", \"rb\" ) )"
   ]
  },
  {
   "cell_type": "code",
   "execution_count": 88,
   "metadata": {},
   "outputs": [],
   "source": [
    "diffmap=mouse_maps['resilient_fp']-mouse_maps['susceptible_fp']"
   ]
  },
  {
   "cell_type": "code",
   "execution_count": 90,
   "metadata": {},
   "outputs": [
    {
     "data": {
      "image/png": "[encoded data removed]",
      "text/plain": [
       "<Figure size 129.6x115.2 with 2 Axes>"
      ]
     },
     "metadata": {},
     "output_type": "display_data"
    }
   ],
   "source": [
    "sns.set_context(\"paper\")\n",
    "sns.set_style(\"dark\")\n",
    "plt.figure(figsize=(1.8,1.6))\n",
    "z=np.zeros(labeled_map.shape)\n",
    "for i in np.unique(labeled_map.flatten()):\n",
    "    if i in range(1,19):\n",
    "        x=peakx[int(i)-1]\n",
    "        y=peaky[int(i)-1]\n",
    "        if np.where(np.argsort(tsne_dists)==int(i)-1)[0][0]+1 in [1,3,15,16]:\n",
    "            plt.text(x,y,np.where(np.argsort(tsne_dists)==int(i)-1)[0][0]+1,\n",
    "                     size=10,\n",
    "                    verticalalignment='center',\n",
    "                    horizontalalignment='center',\n",
    "                    color='k', weight='bold')\n",
    "        elif np.where(np.argsort(tsne_dists)==int(i)-1)[0][0]+1==5:\n",
    "            plt.text(x,y,np.where(np.argsort(tsne_dists)==int(i)-1)[0][0]+1,\n",
    "                     size=10,\n",
    "                    verticalalignment='center',\n",
    "                    horizontalalignment='center',\n",
    "                    color='grey',weight='bold')\n",
    "        else:\n",
    "            plt.text(x,y,np.where(np.argsort(tsne_dists)==int(i)-1)[0][0]+1,\n",
    "                     size=7,\n",
    "                    verticalalignment='center',\n",
    "                    horizontalalignment='center',\n",
    "                    color='grey')\n",
    "        val=chi[int(i)-1]*scale[int(i)-1]\n",
    "        z[np.where(labeled_map.astype(int)==int(i))[0],np.where(labeled_map.astype(int)==int(i))[1]]=val\n",
    "\n",
    "\n",
    "mx=np.ma.masked_array(z, np.abs(diffmap)<np.percentile(np.abs(diffmap),20))\n",
    "im=plt.imshow(mx.T,origin='lower',vmin=-3,vmax=3,\n",
    "            cmap=PiBr)\n",
    "\n",
    "\n",
    "cbar=plt.colorbar(im,fraction=0.048,orientation='vertical',pad=0.02)\n",
    "cbar.set_ticks([2,0,-2])\n",
    "cbar.set_ticklabels([2,0,2])\n",
    "cbar.set_label(r'Control$\\leftarrow$$X^2$$\\rightarrow$Open',rotation=-90,va='bottom')\n",
    "plt.axis('off')\n",
    "plt.tight_layout()\n",
    "plt.show()"
   ]
  },
  {
   "cell_type": "code",
   "execution_count": 91,
   "metadata": {},
   "outputs": [],
   "source": [
    "chi,p=chi2(test.iloc[testrb!=\"open-loop\",:][['t-SNE %d'%(i) for i in range(1,19)]],\n",
    "           testrb[testrb!=\"open-loop\"])\n",
    "\n",
    "scale=np.array([1-2*((np.mean(test.loc[testrb=='no opsin control','t-SNE %d'%(i)])-np.mean(test.loc[testrb=='closed-loop','t-SNE %d'%(i)]))<0) for i in range(1,19)])\n"
   ]
  },
  {
   "cell_type": "code",
   "execution_count": 93,
   "metadata": {},
   "outputs": [
    {
     "data": {
      "image/png": "[encoded data removed]",
      "text/plain": [
       "<Figure size 129.6x115.2 with 2 Axes>"
      ]
     },
     "metadata": {},
     "output_type": "display_data"
    }
   ],
   "source": [
    "sns.set_context(\"paper\")\n",
    "sns.set_style(\"dark\")\n",
    "plt.figure(figsize=(1.8,1.6))\n",
    "z=np.zeros(labeled_map.shape)\n",
    "for i in np.unique(labeled_map.flatten()):\n",
    "    if i in range(1,19):\n",
    "        x=peakx[int(i)-1]\n",
    "        y=peaky[int(i)-1]\n",
    "        if np.where(np.argsort(tsne_dists)==int(i)-1)[0][0]+1 in [1,3,15,16]:\n",
    "            plt.text(x,y,np.where(np.argsort(tsne_dists)==int(i)-1)[0][0]+1,\n",
    "                     size=10,\n",
    "                    verticalalignment='center',\n",
    "                    horizontalalignment='center',\n",
    "                    color='k', weight='bold')\n",
    "        elif np.where(np.argsort(tsne_dists)==int(i)-1)[0][0]+1==5:\n",
    "            plt.text(x,y,np.where(np.argsort(tsne_dists)==int(i)-1)[0][0]+1,\n",
    "                     size=10,\n",
    "                    verticalalignment='center',\n",
    "                    horizontalalignment='center',\n",
    "                    color='white',weight='bold')\n",
    "        else:\n",
    "            plt.text(x,y,np.where(np.argsort(tsne_dists)==int(i)-1)[0][0]+1,\n",
    "                     size=7,\n",
    "                    verticalalignment='center',\n",
    "                    horizontalalignment='center',\n",
    "                    color='grey')\n",
    "        val=chi[int(i)-1]*scale[int(i)-1]\n",
    "        z[np.where(labeled_map.astype(int)==int(i))[0],np.where(labeled_map.astype(int)==int(i))[1]]=val\n",
    "\n",
    "\n",
    "mx=np.ma.masked_array(z, np.abs(diffmap)<np.percentile(np.abs(diffmap),20))\n",
    "im=plt.imshow(mx.T,origin='lower',vmin=-3,vmax=3,\n",
    "            cmap=YGBr)\n",
    "\n",
    "\n",
    "cbar=plt.colorbar(im,fraction=0.048,orientation='vertical',pad=0.02)\n",
    "cbar.set_ticks([2,0,-2])\n",
    "cbar.set_ticklabels([2,0,2])\n",
    "cbar.set_label(r'Control$\\leftarrow$$X^2$$\\rightarrow$Fight',rotation=-90,va='bottom')\n",
    "plt.axis('off')\n",
    "plt.tight_layout()\n",
    "\n",
    "plt.show()"
   ]
  },
  {
   "cell_type": "code",
   "execution_count": 94,
   "metadata": {},
   "outputs": [],
   "source": [
    "for g in groups:\n",
    "    for m in groups[g]:\n",
    "        sub_m=np.zeros((50,50))\n",
    "        for d in range(1,11):\n",
    "            if (m,d) in hists:\n",
    "                sub_m += hists[(m,d)]\n",
    "        if sub_m.sum()!=0:\n",
    "            mouse_maps[(m,g)]=sub_m/sub_m.sum()"
   ]
  },
  {
   "cell_type": "code",
   "execution_count": 104,
   "metadata": {},
   "outputs": [],
   "source": [
    "from scipy.stats import entropy\n",
    "def KL(a, b):\n",
    "    import warnings\n",
    "    warnings.filterwarnings(\"ignore\")\n",
    "    a = np.asarray(a, dtype=np.float)\n",
    "    b = np.asarray(b, dtype=np.float)\n",
    "\n",
    "    return np.sum(np.where(np.logical_and(a != 0,b != 0) , a * np.log2(a / b), 0))"
   ]
  },
  {
   "cell_type": "code",
   "execution_count": 105,
   "metadata": {},
   "outputs": [],
   "source": [
    "indi_map_sim={'g':[],\n",
    "             'm':[],\n",
    "             'diff':[]}\n",
    "for k,m in mouse_maps.items():\n",
    "    if len(k)==1:\n",
    "        continue\n",
    "    diff=np.linalg.norm(m.flatten()-\n",
    "              mouse_maps['resilient_fp'].flatten(),axis=0)-np.linalg.norm(m.flatten()-\n",
    "              mouse_maps['susceptible_fp'].flatten(),axis=0)\n",
    "    k1=KL(m.flatten(),\n",
    "            mouse_maps['resilient_fp'].flatten())\n",
    "    k2=KL(m.flatten(),mouse_maps['susceptible_fp'].flatten())\n",
    "    k3=KL(m.flatten(),np.mean([mouse_maps['susceptible_fp'].flatten(),\n",
    "                              mouse_maps['resilient_fp'].flatten()],axis=0))\n",
    "    diff=(k1-k2)/k3\n",
    "    indi_map_sim['g'].append(k[1])\n",
    "    indi_map_sim['m'].append(k[0])\n",
    "    indi_map_sim['diff'].append(diff)"
   ]
  },
  {
   "cell_type": "code",
   "execution_count": 108,
   "metadata": {},
   "outputs": [
    {
     "name": "stdout",
     "output_type": "stream",
     "text": [
      "open-loop -2.7820728144272326 0.015554248334185635\n",
      "closed-loop -2.923748943841615 0.0104774529777727\n",
      "attack-offset-stim 1.0750843900316782 0.31799057169969286\n",
      "attack-inhibition 3.2832079827637024 0.007292121699710555\n",
      "(array([ True,  True, False,  True]), array([0.020739  , 0.020739  , 0.31799057, 0.020739  ]))\n"
     ]
    },
    {
     "data": {
      "image/png": "[encoded data removed]",
      "text/plain": [
       "<Figure size 288x108 with 1 Axes>"
      ]
     },
     "metadata": {},
     "output_type": "display_data"
    }
   ],
   "source": [
    "sns.set_style('ticks')\n",
    "my_ord=['open-loop','closed-loop','attack-offset-stim','attack-inhibition']\n",
    "my_pal=['hotpink','yellowgreen','lightblue','gold']\n",
    "test_df=pd.DataFrame(indi_map_sim)\n",
    "plt.figure(figsize=(4,1.5))\n",
    "sns.swarmplot(data=test_df,x='g',y='diff',\n",
    "              order=my_ord,\n",
    "              palette=my_pal)\n",
    "sns.barplot(data=test_df,x='g',y='diff',\n",
    "           palette=my_pal,alpha=0.3,\n",
    "           order=my_ord)\n",
    "plt.xticks([0,1,2,3],\n",
    "           ['open-loop\\nactivation','fight-back-triggered\\nactivation','escape-triggered\\nactivation','attack-triggered\\ninhibition'],\n",
    "           rotation=30,ha='right')\n",
    "plt.xlabel('')\n",
    "plt.ylabel('Relative\\nBehavior Similarity\\n'+r'R$\\leftarrow$                    $\\rightarrow$S')\n",
    "plt.axhline(y=0,color='k',zorder=-1,linewidth=0.75)\n",
    "plt.ylim(-0.3,0.3)\n",
    "sns.despine()\n",
    "for i in [0,1,3]:\n",
    "    plt.text(i,0.24,'*',va='center',ha='center')\n",
    "\n",
    "from scipy.stats import ttest_1samp,ttest_ind\n",
    "from statsmodels.stats.multitest import fdrcorrection\n",
    "from itertools import combinations\n",
    "ps= []\n",
    "for g in my_ord:\n",
    "    t,p=ttest_1samp(test_df.query('g==\"%s\"'%g)['diff'],0)\n",
    "    print(g,t,p)\n",
    "    ps.append(p)\n",
    "print(fdrcorrection(ps))"
   ]
  },
  {
   "cell_type": "code",
   "execution_count": null,
   "metadata": {},
   "outputs": [],
   "source": []
  }
 ],
 "metadata": {
  "kernelspec": {
   "display_name": "Python 3",
   "language": "python",
   "name": "python3"
  },
  "language_info": {
   "codemirror_mode": {
    "name": "ipython",
    "version": 3
   },
   "file_extension": ".py",
   "mimetype": "text/x-python",
   "name": "python",
   "nbconvert_exporter": "python",
   "pygments_lexer": "ipython3",
   "version": "3.6.12"
  }
 },
 "nbformat": 4,
 "nbformat_minor": 4
}
